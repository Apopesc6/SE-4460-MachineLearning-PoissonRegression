{
 "cells": [
  {
   "cell_type": "code",
   "execution_count": 5,
   "metadata": {},
   "outputs": [
    {
     "data": {
      "text/html": [
       "<div>\n",
       "<style scoped>\n",
       "    .dataframe tbody tr th:only-of-type {\n",
       "        vertical-align: middle;\n",
       "    }\n",
       "\n",
       "    .dataframe tbody tr th {\n",
       "        vertical-align: top;\n",
       "    }\n",
       "\n",
       "    .dataframe thead th {\n",
       "        text-align: right;\n",
       "    }\n",
       "</style>\n",
       "<table border=\"1\" class=\"dataframe\">\n",
       "  <thead>\n",
       "    <tr style=\"text-align: right;\">\n",
       "      <th></th>\n",
       "      <th>Unnamed: 0</th>\n",
       "      <th>age</th>\n",
       "      <th>pace</th>\n",
       "    </tr>\n",
       "  </thead>\n",
       "  <tbody>\n",
       "    <tr>\n",
       "      <th>0</th>\n",
       "      <td>0</td>\n",
       "      <td>38</td>\n",
       "      <td>3.73</td>\n",
       "    </tr>\n",
       "    <tr>\n",
       "      <th>1</th>\n",
       "      <td>1</td>\n",
       "      <td>75</td>\n",
       "      <td>7.53</td>\n",
       "    </tr>\n",
       "    <tr>\n",
       "      <th>2</th>\n",
       "      <td>2</td>\n",
       "      <td>35</td>\n",
       "      <td>4.73</td>\n",
       "    </tr>\n",
       "    <tr>\n",
       "      <th>3</th>\n",
       "      <td>3</td>\n",
       "      <td>27</td>\n",
       "      <td>4.26</td>\n",
       "    </tr>\n",
       "    <tr>\n",
       "      <th>4</th>\n",
       "      <td>4</td>\n",
       "      <td>54</td>\n",
       "      <td>5.40</td>\n",
       "    </tr>\n",
       "  </tbody>\n",
       "</table>\n",
       "</div>"
      ],
      "text/plain": [
       "   Unnamed: 0  age  pace\n",
       "0           0   38  3.73\n",
       "1           1   75  7.53\n",
       "2           2   35  4.73\n",
       "3           3   27  4.26\n",
       "4           4   54  5.40"
      ]
     },
     "execution_count": 5,
     "metadata": {},
     "output_type": "execute_result"
    }
   ],
   "source": [
    "# Preamble\n",
    "import numpy as np\n",
    "import pandas as pd\n",
    "import seaborn as sns\n",
    "import matplotlib.pyplot as plt\n",
    "import scipy.optimize as so\n",
    "\n",
    "%matplotlib inline\n",
    "\n",
    "run_data = pd.read_csv(\"runningSpeeds.csv\")\n",
    "run_data.head()"
   ]
  },
  {
   "cell_type": "markdown",
   "metadata": {},
   "source": [
    "# Lab 2.1 Plotting Data and Distributions"
   ]
  },
  {
   "cell_type": "markdown",
   "metadata": {},
   "source": [
    "## One-dimensional - Distribution Plots"
   ]
  },
  {
   "cell_type": "code",
   "execution_count": null,
   "metadata": {
    "scrolled": true
   },
   "outputs": [],
   "source": []
  },
  {
   "cell_type": "code",
   "execution_count": 4,
   "metadata": {},
   "outputs": [
    {
     "data": {
      "text/plain": [
       "<matplotlib.axes._subplots.AxesSubplot at 0x1b84bbf2f40>"
      ]
     },
     "execution_count": 4,
     "metadata": {},
     "output_type": "execute_result"
    },
    {
     "data": {
      "image/png": "[encoded data removed]",
      "text/plain": [
       "<Figure size 432x288 with 1 Axes>"
      ]
     },
     "metadata": {
      "needs_background": "light"
     },
     "output_type": "display_data"
    }
   ],
   "source": [
    "# Histogram\n",
    "sns.distplot(run_data.age, kde=False) #displot plots 2 things at the same time"
   ]
  },
  {
   "cell_type": "code",
   "execution_count": 6,
   "metadata": {},
   "outputs": [
    {
     "data": {
      "text/plain": [
       "<matplotlib.axes._subplots.AxesSubplot at 0x1b84bcb4730>"
      ]
     },
     "execution_count": 6,
     "metadata": {},
     "output_type": "execute_result"
    },
    {
     "data": {
      "image/png": "[encoded data removed]",
      "text/plain": [
       "<Figure size 432x288 with 1 Axes>"
      ]
     },
     "metadata": {
      "needs_background": "light"
     },
     "output_type": "display_data"
    }
   ],
   "source": [
    "# Histogram and Density\n",
    "sns.distplot(run_data.age) #Without including KDE = false, the smooth curve(the line) is an estimate of the density of the data\n",
    "#y axis changes for the density"
   ]
  },
  {
   "cell_type": "code",
   "execution_count": 7,
   "metadata": {},
   "outputs": [
    {
     "data": {
      "text/plain": [
       "<matplotlib.axes._subplots.AxesSubplot at 0x1b84bd0d640>"
      ]
     },
     "execution_count": 7,
     "metadata": {},
     "output_type": "execute_result"
    },
    {
     "data": {
      "image/png": "[encoded data removed]",
      "text/plain": [
       "<Figure size 432x288 with 1 Axes>"
      ]
     },
     "metadata": {
      "needs_background": "light"
     },
     "output_type": "display_data"
    }
   ],
   "source": [
    "# Histogram and Density - specify # bins\n",
    "sns.distplot(run_data.age, bins = 15) #higher number of bins, higher number of detail in the histogram"
   ]
  },
  {
   "cell_type": "markdown",
   "metadata": {},
   "source": [
    "## Two-dimensional - Joint Plots"
   ]
  },
  {
   "cell_type": "code",
   "execution_count": 8,
   "metadata": {},
   "outputs": [
    {
     "data": {
      "text/plain": [
       "<seaborn.axisgrid.JointGrid at 0x1b84bda2730>"
      ]
     },
     "execution_count": 8,
     "metadata": {},
     "output_type": "execute_result"
    },
    {
     "data": {
      "image/png": "[encoded data removed]",
      "text/plain": [
       "<Figure size 432x432 with 3 Axes>"
      ]
     },
     "metadata": {
      "needs_background": "light"
     },
     "output_type": "display_data"
    }
   ],
   "source": [
    "# Joint distribution plot\n",
    "sns.jointplot(x=\"age\", y=\"pace\", data=run_data) #creates a scatter plot with histograms age and pace on the sides"
   ]
  },
  {
   "cell_type": "code",
   "execution_count": 9,
   "metadata": {},
   "outputs": [
    {
     "data": {
      "text/plain": [
       "<seaborn.axisgrid.JointGrid at 0x1b84be9fc70>"
      ]
     },
     "execution_count": 9,
     "metadata": {},
     "output_type": "execute_result"
    },
    {
     "data": {
      "image/png": "[encoded data removed]",
      "text/plain": [
       "<Figure size 432x432 with 3 Axes>"
      ]
     },
     "metadata": {
      "needs_background": "light"
     },
     "output_type": "display_data"
    }
   ],
   "source": [
    "# Joint distribution plot with estimated density\n",
    "sns.jointplot(x=\"age\", y=\"pace\", data=run_data, kind=\"kde\") #creates a smooth estimate of the marginals (top and side) and a smooth estimate of the 2d joint distribution of age and pace is (the middle)\n",
    "#kde stands for kernel density estimate"
   ]
  },
  {
   "cell_type": "code",
   "execution_count": null,
   "metadata": {},
   "outputs": [],
   "source": [
    "# Joint distribution plot with regression line\n",
    "sns.jointplot(x=\"age\", y=\"pace\", data=run_data, kind=\"reg\")"
   ]
  },
  {
   "cell_type": "code",
   "execution_count": null,
   "metadata": {},
   "outputs": [],
   "source": [
    "# Joint distribution plot with hexes\n",
    "sns.jointplot(x=\"age\", y=\"pace\", data=run_data, kind=\"hex\")"
   ]
  },
  {
   "cell_type": "markdown",
   "metadata": {},
   "source": [
    "# Lab 2.2 - Maximum Likelihood Example - Laplace Distribution"
   ]
  },
  {
   "cell_type": "code",
   "execution_count": null,
   "metadata": {},
   "outputs": [],
   "source": [
    "# Generate data\n",
    "n = 10001\n",
    "normalData = pd.DataFrame({\"data\": pd.Series(np.random.normal(0,1,n))})\n",
    "laplaceData = pd.DataFrame({\"data\": pd.Series(np.random.laplace(0,1/np.sqrt(2),n))})\n",
    "\n",
    "# Plot\n",
    "sns.distplot(normalData)\n",
    "sns.distplot(laplaceData)"
   ]
  },
  {
   "cell_type": "code",
   "execution_count": null,
   "metadata": {},
   "outputs": [],
   "source": [
    "#Zoom in\n",
    "sns.distplot(normalData)\n",
    "sns.distplot(laplaceData)\n",
    "plt.xlim(2,6)\n",
    "plt.ylim(0,0.1)"
   ]
  },
  {
   "cell_type": "code",
   "execution_count": null,
   "metadata": {},
   "outputs": [],
   "source": [
    "## Laplace Negative Log Likelihood\n",
    "def laplaceNegLogLikelihood(mu, b, y):\n",
    "    # Stuff...\n",
    "    neg_log_lik = -np.sum(-np.log(2*b) - abs(y - mu) / b)\n",
    "    return neg_log_lik"
   ]
  },
  {
   "cell_type": "code",
   "execution_count": null,
   "metadata": {},
   "outputs": [],
   "source": [
    "## Laplace Maximum Likelihood Estimate for mu\n",
    "def maximumLikelihood(y):\n",
    "    # Stuff...\n",
    "    RES = so.minimize(laplaceNegLogLikelihood, 1, args=(1, y), method=\"Powell\", tol = 1e-8)\n",
    "    print(RES)\n",
    "    return RES.x\n",
    "\n",
    "# Test the function\n",
    "maximumLikelihood(laplaceData.values)"
   ]
  },
  {
   "cell_type": "code",
   "execution_count": null,
   "metadata": {},
   "outputs": [],
   "source": [
    "# Should give same answer as median!\n",
    "laplaceData.median()"
   ]
  },
  {
   "cell_type": "code",
   "execution_count": null,
   "metadata": {},
   "outputs": [],
   "source": [
    "# Laplace Negative Log Likelihood for regression\n",
    "def laplaceRegNegLogLikelihood(beta, X, y):\n",
    "    # Stuff...\n",
    "    mu = (X@beta).reshape(-1,1)\n",
    "    return laplaceNegLogLikelihood(mu, 1, y)\n",
    "    "
   ]
  },
  {
   "cell_type": "code",
   "execution_count": null,
   "metadata": {},
   "outputs": [],
   "source": [
    "# Function to maximize regression log likelihood\n",
    "def maximumRegLikelihood(X, y, negloglik=laplaceRegNegLogLikelihood):\n",
    "    ### BEGIN SOLUTION\n",
    "    nrows,ncols = X.shape\n",
    "    betas=np.zeros((ncols,1))\n",
    "    RES = so.minimize(negloglik, betas, args=(X,y), method=\"Powell\", tol=1e-8)\n",
    "    print(RES)\n",
    "    return RES.x\n",
    "\n",
    "age = run_data.age.values\n",
    "X = np.c_[np.ones(age.size), age]\n",
    "y = run_data.pace.values.reshape(-1,1)\n",
    "\n",
    "b,loss = maximumRegLikelihood(X,y)\n"
   ]
  },
  {
   "cell_type": "markdown",
   "metadata": {},
   "source": [
    "# Check this answer against the median regression from Week 1. What do you see?"
   ]
  }
 ],
 "metadata": {
  "kernelspec": {
   "display_name": "Python 3",
   "language": "python",
   "name": "python3"
  },
  "language_info": {
   "codemirror_mode": {
    "name": "ipython",
    "version": 3
   },
   "file_extension": ".py",
   "mimetype": "text/x-python",
   "name": "python",
   "nbconvert_exporter": "python",
   "pygments_lexer": "ipython3",
   "version": "3.8.3"
  }
 },
 "nbformat": 4,
 "nbformat_minor": 4
}
