{
 "cells": [
  {
   "cell_type": "markdown",
   "metadata": {},
   "source": [
    "# Grade: /20 Mark(s)\n",
    "\n",
    "# Lab Assignment 02: Maximum Likelihood\n",
    "\n",
    "\n",
    "### Maximum Likelihood\n",
    "\n",
    "The poisson distribution https://en.wikipedia.org/wiki/Poisson_distribution is a discrete probability distribution often used to describe count-based data, like how many snowflakes fall in a day.\n",
    "\n",
    "If we have count data $y$ that are influenced by a covariate or feature $x$, we can use the maximum likelihood principle to develop a regression model relating $x$ to $y$.\n",
    "\n",
    "\n",
    "\n",
    "\n",
    "### Follow These Instructions\n",
    "\n",
    "Once you are finished, ensure to complete the following steps.\n",
    "\n",
    "1.  Restart your kernel by clicking 'Kernel' > 'Restart & Run All'.\n",
    "\n",
    "2.  Fix any errors which result from this.\n",
    "\n",
    "3.  Repeat steps 1. and 2. until your notebook runs without errors.\n",
    "\n",
    "4.  Submit your completed notebook to OWL by the deadline.\n"
   ]
  },
  {
   "cell_type": "code",
   "execution_count": 1,
   "metadata": {},
   "outputs": [],
   "source": [
    "#It's dangerous to go alone.  Take these!\n",
    "import numpy as np\n",
    "import matplotlib.pyplot as plt\n",
    "import pandas as pd\n",
    "import statsmodels.formula.api as sm\n",
    "from statsmodels.tools import add_constant\n",
    "from scipy.optimize import minimize\n",
    "from scipy.special import gammaln\n",
    "\n"
   ]
  },
  {
   "cell_type": "markdown",
   "metadata": {},
   "source": [
    "### Question 1: /2 Mark(s)\n",
    "\n",
    "The negative log likelihood for a Poisson random variable is\n",
    "\n",
    "$$\\ell(\\lambda; \\mathbf{y}) = -\\sum_{i=1}^N\\Bigg( y_{i}\\cdot \\ln(\\lambda) - \\lambda - \\ln(y_i!) \\Bigg)$$\n",
    "\n",
    "Here, $\\mathbf{y}$ is a vector of counts and $\\lambda$ is a scalar value.\n",
    "\n",
    "Write a function called `poissonNegLogLikelihood` that takes a vector of counts $\\mathbf{y}$ and a parameter $\\lambda$ and returns the negative log likelihood.  The $\\sum_{i} \\ln(y_i!)$ does not affect the location of the maximum, and so you can omit the $ \\ln(y_i!)$ in your function.\n",
    "\n",
    "\n",
    "Test your function by calling it with `lam = 1.3` and `y=np.array([2,1,0,0])`.\n",
    "\n",
    "What happens when you call the function when `lam=np.array([1,0.5,1,3])` and  `y=np.array([2,1,0,0])`? \n",
    "\n",
    "Answer the following below in markdown: What happens when you set an element of lam to 0 or a negative number and why? \n"
   ]
  },
  {
   "cell_type": "code",
   "execution_count": 5,
   "metadata": {
    "scrolled": true
   },
   "outputs": [
    {
     "name": "stdout",
     "output_type": "stream",
     "text": [
      "Test trial 1: 4.412907206597527\n",
      "Test trial 2: 6.193147180559945\n"
     ]
    }
   ],
   "source": [
    "def poissonNegLogLikelihood(lam,y):\n",
    "    \n",
    "    # Read up on the gamma function to make sure you get the likelihood right!\n",
    "    neg_log_lik = -sum(y * np.log(lam)-lam) #negative log function\n",
    "    return neg_log_lik\n",
    "\n",
    "#Setting test values, calling the function and printing\n",
    "lam = 1.3\n",
    "y = np.array([2,1,0,0])\n",
    "returnedVal = poissonNegLogLikelihood(lam, y)\n",
    "print(\"Test trial 1:\", returnedVal)\n",
    "\n",
    "lam = np.array([1,0.5,1,3])\n",
    "y = np.array([2,1,0,0])\n",
    "returnedVal = poissonNegLogLikelihood(lam, y)\n",
    "print(\"Test trial 2:\", returnedVal)"
   ]
  },
  {
   "cell_type": "markdown",
   "metadata": {},
   "source": [
    "Write your answer here\n",
    "\n",
    "When you set an element of lam to 0 or a negative value, the function returns a runtime error, indicating that \"an invalid value was encountered in log\". This is because you cannot use the log function with a negative value or 0 since the base 10 log of either is undefined."
   ]
  },
  {
   "cell_type": "markdown",
   "metadata": {},
   "source": [
    "### Question 2: /3 Mark(s)\n",
    "\n",
    "Write a function called `poissonRegressionNegLogLikelihood` that takes as arguments a vector $\\mathbf{y}$ of counts, a design matrix $\\mathbf{X}$ of features for each count, and a vector $\\mathbf{\\beta}$ of parameters. The function should return the negative log likelihood of this dataset, assuming that each element of  $\\mathbf{y}$ is independent and Poisson distributed with parameter $\\lambda = \\exp(\\mathbf{X}\\beta)$.\n",
    "\n",
    "Hint: You can use `poissonNegLogLikelihood` in this answer!\n",
    "Test your function by calling it with \n",
    "* `b=np.array([1,2])`\n",
    "* `X=np.array([[1,2,3],[2,3,1]]).T`\n",
    "* `y=np.array([0,2,10])`\n"
   ]
  },
  {
   "cell_type": "code",
   "execution_count": 6,
   "metadata": {},
   "outputs": [
    {
     "name": "stdout",
     "output_type": "stream",
     "text": [
      "The returned poisson reggression negative log likelihood: 3211.7843052468816\n"
     ]
    }
   ],
   "source": [
    "def poissonRegressionNegLogLikelihood(b, X, y):\n",
    "    #Enter the expression for lambda as shown above!\n",
    "    lam = np.exp(X@b) #using e ^ of the dot product of X and b to find the new lambda value\n",
    "    # Use poissonNegLogLikelihood to compute the likelihood\n",
    "    neg_log_lik = poissonNegLogLikelihood(lam, y)#plugging in the new lam\n",
    "    return neg_log_lik\n",
    "\n",
    "#Testing function now\n",
    "b = np.array([1,2])\n",
    "X = np.array([[1,2,3],[2,3,1]]).T\n",
    "y = np.array([0,2,10])\n",
    "\n",
    "returnedVal = poissonRegressionNegLogLikelihood(b, X, y)\n",
    "print(\"The returned poisson reggression negative log likelihood:\", returnedVal)\n"
   ]
  },
  {
   "cell_type": "markdown",
   "metadata": {},
   "source": [
    "### Question 3: /2 Mark(s)\n",
    "\n",
    "a) In `poissonRegressionNegLogLikelihood`, why did we apply the exponential function to $\\mathbf{X}\\beta$?  Hint: Can an exponential ever be negative?\n",
    "\n",
    "b) What might have happened had we just passed $\\lambda = \\mathbf{X}\\beta$?\n",
    "\n",
    "Answer parts a) and b) below in this cell.  Write no more than 2 sentences per answer! \n",
    "\n",
    "---\n",
    "a)In the poissonRegressionNegLogLikelihood function, we applied the exponential function to $\\mathbf{X}\\beta$ because e^x will approach 0 as x approaches negative infinity. E is also a positive real number, so e to the power of any exponent cannot become negative by exponent laws. Therefore e^x is used so the lambda value cannot ever be negative, so that the log value will not return undefined.\n",
    "\n",
    "b)If we just passed $\\lambda = \\mathbf{X}\\beta$, it creates a possibility of obtaining a negative value for lambda. This will give the same error discussed of an invalid value since log of a negative number is undefined"
   ]
  },
  {
   "cell_type": "markdown",
   "metadata": {},
   "source": [
    "### Question 4: /1 Mark(s)\n",
    "\n",
    "Write a function called `modelPrediction` which accepts as its first argument a vector of coefficents $\\beta$ and a design matrix $\\mathbf{X}$.  The function should return predictions of the form $\\widehat{\\mathbf{y}} = \\exp(\\mathbf{X}\\beta)$. \n",
    "\n",
    "Hint: Numpy implements the exponential using `np.exp`.  \n",
    "\n",
    "Test your function by calling it with \n",
    "* `b=np.array([1,2])`\n",
    "* `X=np.array([[1,2,3],[2,3,1]]).T`"
   ]
  },
  {
   "cell_type": "code",
   "execution_count": 8,
   "metadata": {},
   "outputs": [
    {
     "name": "stdout",
     "output_type": "stream",
     "text": [
      "The returned value of yhat is: [ 148.4131591  2980.95798704  148.4131591 ]\n"
     ]
    }
   ],
   "source": [
    "def modelPrediction(b,X):\n",
    "    yhat = np.exp(X@b)\n",
    "    return yhat\n",
    "\n",
    "b = np.array([1,2])\n",
    "X = np.array([[1,2,3],[2,3,1]]).T\n",
    "\n",
    "returnedVal = modelPrediction(b,X)\n",
    "print(\"The returned value of yhat is:\", returnedVal)"
   ]
  },
  {
   "cell_type": "markdown",
   "metadata": {},
   "source": [
    "### Question 5: /3 Mark(s)\n",
    "\n",
    "Write a function called `fitModel` which accepts as its first argument argument a design matrix $\\mathbf{X}$ and as its second argument a vector of outcomes counts $\\mathbf{y}$. The function should return the maximum likelihood estimates for the coefficients of a Poisson regression of $\\mathbf{y}$ onto $\\mathbf{X}$.\n",
    "\n",
    "Test your function by calling it with \n",
    "* `X=np.array([[1,2,3],[2,3,1]]).T`\n",
    "* `y=np.array([0,2,10])`\n",
    "\n",
    "What is your estimated b? "
   ]
  },
  {
   "cell_type": "code",
   "execution_count": 12,
   "metadata": {},
   "outputs": [
    {
     "name": "stdout",
     "output_type": "stream",
     "text": [
      "The value of the estimated b is: [ 0.94827554 -0.52953516]\n"
     ]
    }
   ],
   "source": [
    "def fitModel(X,y):\n",
    "\n",
    "    # Instantiate a guess for the betas, beta_start, so that the optimizer has somewhere to start\n",
    "    # Keep in mind what shape the beta_start should be. It shoud have the same number of elements as X as columns\n",
    "    numRows, numCols = X.shape #get the number of rows and columns from the data\n",
    "    dataSet = np.zeros((numCols,1)) #create a new data set with the same amount of columns, filled with 1s\n",
    "    # Minimize the appropriate likelihood function\n",
    "    minLike = minimize(poissonRegressionNegLogLikelihood, dataSet, args=(X,y))\n",
    "    # Extract the maximum likelihood estimates from the optimizer.\n",
    "    betas = minLike.x #similar from the previous lab\n",
    "    return betas\n",
    "\n",
    "#Testing the function and outputting the result\n",
    "X = np.array([[1,2,3],[2,3,1]]).T\n",
    "y = np.array([0,2,10])\n",
    "\n",
    "returnedVal = fitModel(X,y)\n",
    "print(\"The value of the estimated b is:\", returnedVal)"
   ]
  },
  {
   "cell_type": "markdown",
   "metadata": {},
   "source": [
    "### Question 6: /4 Mark(s)\n",
    "\n",
    "Load in the data from `poisson_regression_data.csv`. Plot a scatterplot of the data. Fit a poisson regression to this data using the functions you wrote above.  Plot the model predictions over $x \\in [-2,2]$ on the same graph as the scatterplot of the data.  "
   ]
  },
  {
   "cell_type": "code",
   "execution_count": 22,
   "metadata": {},
   "outputs": [
    {
     "data": {
      "text/plain": [
       "[<matplotlib.lines.Line2D at 0x196968efa00>]"
      ]
     },
     "execution_count": 22,
     "metadata": {},
     "output_type": "execute_result"
    },
    {
     "data": {
      "image/png": "[encoded data removed]",
      "text/plain": [
       "<Figure size 720x480 with 1 Axes>"
      ]
     },
     "metadata": {
      "needs_background": "light"
     },
     "output_type": "display_data"
    }
   ],
   "source": [
    "# Loading in the data.\n",
    "#reading the data set\n",
    "dataframe = pd.read_csv('poisson_regression_data.csv')\n",
    "\n",
    "fig, ax = plt.subplots(dpi = 120)\n",
    "\n",
    "# Scatter the data.\n",
    "dataframe.plot.scatter(x='x', y='y', alpha = 0.8, ax = ax)\n",
    "ax.set_xlabel('X axis')#naming the x axis\n",
    "ax.set_ylabel('Y axis')#naming the y axis\n",
    "\n",
    "# Fit the model.  You can use your functions.  \n",
    "x = dataframe.x.values  #getting the data for the x axis\n",
    "X = np.c_[np.ones(x.size), x] #creating design matrix\n",
    "y= dataframe.y.values #getting the data for the y axis (training data)\n",
    "\n",
    "# Find the maximum likelihood estimates for the coefficients for this data\n",
    "betas = fitModel(X,y)\n",
    "\n",
    "# Make predictions on new data\n",
    "dataSet = np.linspace(-2,2,101)\n",
    "newData = np.c_[np.ones(dataSet.size), dataSet]\n",
    "\n",
    "# Make predictions on the new data\n",
    "y_predicted=modelPrediction(betas, newData) #calling the model prediction function from before\n",
    "\n",
    "#Finally, plot the predictions on the same axis and color the predictions red\n",
    "ax.plot(dataSet, y_predicted, color=\"red\")\n"
   ]
  },
  {
   "cell_type": "markdown",
   "metadata": {},
   "source": [
    "### Question 7:  /4 Mark(s)\n",
    "\n",
    "Now apply linear regression (ordinary least squares) to the data, obtain parameter estimates and plot the predictions over the same range.  Feel free to use `statsmodels` to fit the linear regression."
   ]
  },
  {
   "cell_type": "code",
   "execution_count": 24,
   "metadata": {},
   "outputs": [
    {
     "data": {
      "text/plain": [
       "Text(0, 0.5, 'Y Axis')"
      ]
     },
     "execution_count": 24,
     "metadata": {},
     "output_type": "execute_result"
    },
    {
     "data": {
      "image/png": "[encoded data removed]",
      "text/plain": [
       "<Figure size 720x480 with 1 Axes>"
      ]
     },
     "metadata": {
      "needs_background": "light"
     },
     "output_type": "display_data"
    }
   ],
   "source": [
    "\n",
    "# Read in the data\n",
    "dataframe = pd.read_csv('poisson_regression_data.csv')\n",
    "# Instantiate the model\n",
    "model = sm.ols('y~x', data=dataframe).fit()\n",
    "\n",
    "# Fit the model.  Remember, in statsmodels this happens in a different step!\n",
    "# You can use either the formula or the functionl API here \n",
    "xData=np.linspace(-2,2,101) #ranging from -2 to 2\n",
    "\n",
    "newData = pd.DataFrame({'x':xData})\n",
    "OLS = model.predict(newData).values\n",
    "# Make predictions over the range -2 to 2\n",
    "\n",
    "\n",
    "# Plot a scatter plot of the data and your model's predictions\n",
    "fig, ax = plt.subplots(dpi = 120)\n",
    "dataframe.plot.scatter(x='x', y='y', alpha = 0.8, ax = ax)\n",
    "ax.plot(xData, OLS, color=\"red\") #plotting the line and the data\n",
    "ax.set_xlabel('X Axis') #Naming both the x and y axis\n",
    "ax.set_ylabel('Y Axis')\n"
   ]
  },
  {
   "cell_type": "markdown",
   "metadata": {},
   "source": [
    "### Question 8: /1 Mark(s)\n",
    "\n",
    "a) Do you see any major problems with the predictions from linear regression? Keep in mind that this model is intended to model counts of things. Provide your answer below in markdown in fewer than 5 sentences.\n",
    "\n",
    "---\n",
    "\n",
    "a) An issue I that I see with using linear regression from the predictions made in this lab is that it doesn't represent exponential data very effectively. This is likely because it is good at ignoring outliers, which in this case are not actually outliers, they just indicate exponential growth. This data does not seem to be a count of things, therefore the linear regression model does not fit it properly.\n",
    "\n",
    "\n"
   ]
  },
  {
   "cell_type": "markdown",
   "metadata": {},
   "source": [
    "### Follow These Instructions\n",
    "\n",
    "Once you are finished, ensure to complete the following steps.\n",
    "\n",
    "1.  Restart your kernel by clicking 'Kernel' > 'Restart & Run All'.\n",
    "\n",
    "2.  Fix any errors which result from this.\n",
    "\n",
    "3.  Repeat steps 1. and 2. until your notebook runs without errors.\n",
    "\n",
    "4.  Submit your completed notebook to OWL by the deadline."
   ]
  }
 ],
 "metadata": {
  "kernelspec": {
   "display_name": "Python 3",
   "language": "python",
   "name": "python3"
  },
  "language_info": {
   "codemirror_mode": {
    "name": "ipython",
    "version": 3
   },
   "file_extension": ".py",
   "mimetype": "text/x-python",
   "name": "python",
   "nbconvert_exporter": "python",
   "pygments_lexer": "ipython3",
   "version": "3.8.3"
  }
 },
 "nbformat": 4,
 "nbformat_minor": 4
}
